{
 "cells": [
  {
   "cell_type": "code",
   "execution_count": 1,
   "metadata": {},
   "outputs": [],
   "source": [
    "#q1"
   ]
  },
  {
   "cell_type": "code",
   "execution_count": 8,
   "metadata": {},
   "outputs": [
    {
     "name": "stdout",
     "output_type": "stream",
     "text": [
      "Valid Password\n"
     ]
    }
   ],
   "source": [
    "def check_password(password):\n",
    "  # check the length of the password\n",
    "  if len(password) != 10:\n",
    "    return \"Invalid Password\"\n",
    "  # check the number of uppercase and lowercase letters\n",
    "  upper = 0\n",
    "  lower = 0\n",
    "  for char in password:\n",
    "    if char.isupper():\n",
    "      upper += 1\n",
    "    elif char.islower():\n",
    "      lower += 1\n",
    "  if upper < 2 or lower < 2:\n",
    "    return \"Invalid Password\"\n",
    "  # check the number of digits and special characters\n",
    "  digits = \"0123456789\"\n",
    "  special = \"!@#$%^&*()-_=+[]{};:'\\\",.<>/?\\\\|`~\"\n",
    "  digit_count = 0\n",
    "  special_count = 0\n",
    "  for char in password:\n",
    "    if char in digits:\n",
    "      digit_count += 1\n",
    "    elif char in special:\n",
    "      special_count += 1\n",
    "  if digit_count < 1 or special_count < 3:\n",
    "    return \"Invalid Password\"\n",
    "  # if all the conditions are satisfied, return valid password\n",
    "  return \"Valid Password\"\n",
    "\n",
    "\n",
    "pwd = input()   # e.g. pwd = \"AbCde1@!2#\"\n",
    "print(check_password(pwd))"
   ]
  },
  {
   "cell_type": "code",
   "execution_count": 9,
   "metadata": {},
   "outputs": [],
   "source": [
    "#q2"
   ]
  },
  {
   "cell_type": "code",
   "execution_count": 11,
   "metadata": {},
   "outputs": [
    {
     "data": {
      "text/plain": [
       "[('grapes', 1000), ('mango', 99), ('orange', 80)]"
      ]
     },
     "execution_count": 11,
     "metadata": {},
     "output_type": "execute_result"
    }
   ],
   "source": [
    "# Check if the string starts with a particular letter\n",
    "\n",
    "s = \"Hello\"\n",
    "list(map(lambda s: s[0] == \"H\"))\n",
    "\n",
    "#Check if the string is numeric\n",
    "\n",
    "x = \"123\" \n",
    "list(map(lambda x : x.isnumeric() , x))\n",
    "\n",
    "#Sort a list of tuples having fruit names and their quantity. [(\"mango\",99),(\"orange\",80), (\"grapes\", 1000)]\n",
    "\n",
    "sorted([(\"mango\",99),(\"orange\",80), (\"grapes\", 1000)], key=lambda x: x[0])\n",
    "\n",
    "#Find the squares of numbers from 1 to 10\n",
    "\n",
    "[x**2 for x in range(1,11)]\n",
    "\n",
    "#Find the cube root of numbers from 1 to 10\n",
    "\n",
    "[x**(1/3) for x in range(1,11)]\n",
    "\n",
    "#Check if a given number is even\n",
    "\n",
    "lst = [2,1,4,5,8,2]\n",
    "list(map(lambda x: x % 2 == 0) , lst)\n",
    "\n",
    "#Filter odd numbers from the given list.\n",
    "#[1,2,3,4,5,6,7,8,9,10]\n",
    "\n",
    "list(filter(lambda x: x % 2 == 0, [1,2,3,4,5,6,7,8,9,10]))\n",
    "\n",
    "# Sort a list of integers into positive and negative integers lists.\n",
    "#[1,2,3,4,5,6,-1,-2,-3,-4,-5,0]\n",
    "\n",
    "positive = [x for x in [1,2,3,4,5,-1,-2,-3,-4,-5] if x > 0]\n",
    "negative = [x for x in [1,2,3,4,5,-1,-2,-3,-4,-5] if x < 0]\n"
   ]
  },
  {
   "cell_type": "code",
   "execution_count": null,
   "metadata": {},
   "outputs": [],
   "source": []
  }
 ],
 "metadata": {
  "kernelspec": {
   "display_name": "Python 3",
   "language": "python",
   "name": "python3"
  },
  "language_info": {
   "codemirror_mode": {
    "name": "ipython",
    "version": 3
   },
   "file_extension": ".py",
   "mimetype": "text/x-python",
   "name": "python",
   "nbconvert_exporter": "python",
   "pygments_lexer": "ipython3",
   "version": "3.11.4"
  },
  "orig_nbformat": 4
 },
 "nbformat": 4,
 "nbformat_minor": 2
}
